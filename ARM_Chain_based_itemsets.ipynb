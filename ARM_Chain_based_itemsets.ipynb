{
  "nbformat": 4,
  "nbformat_minor": 0,
  "metadata": {
    "colab": {
      "name": "ARM_Chain-based_itemsets",
      "provenance": [],
      "collapsed_sections": [
        "YUxPYkTG3PLi",
        "IM0FG3k6Dwge"
      ]
    },
    "kernelspec": {
      "name": "python3",
      "display_name": "Python 3"
    },
    "language_info": {
      "name": "python"
    }
  },
  "cells": [
    {
      "cell_type": "markdown",
      "metadata": {
        "id": "6YokeWgH3SPM"
      },
      "source": [
        "# Introduction"
      ]
    },
    {
      "cell_type": "code",
      "metadata": {
        "id": "rpgluVFHtcYO"
      },
      "source": [
        "# Aim: To get word-associations (rules) using a database of words\n",
        "# words occuring together are more important, and may suggest some kind of association between them\n",
        "# eg. A is type-of B, A is subset/subtype of B etc.\n",
        "\n",
        "# ARM resources terminology\n",
        "# Database(D) - Consists of several transactions (T1, T2, ...)\n",
        "# Items (I) - Items present in market basket (i1, i2, ...)\n",
        "# Every transaction consists of a subset of Items\n",
        "\n",
        "# Our terminology\n",
        "# Database (D) - Consists of several tables (sets the universe) which specify columns to look at (C1, C2, ...)\n",
        "# Items (I) - Words in the columns, with or without filtering (removing stop-words, lemmatization etc) (w1, w2, ...)\n",
        "# Every column consists of a (small) subset of Items"
      ],
      "execution_count": null,
      "outputs": []
    },
    {
      "cell_type": "code",
      "metadata": {
        "id": "kJtD5J9E21tc"
      },
      "source": [
        "# Plan\n",
        "# Let user specify set of tables to consider as database\n",
        "# Use columns inside that to generate word associations\n",
        "# Plot the results of Support, Confidence of rule etc.."
      ],
      "execution_count": null,
      "outputs": []
    },
    {
      "cell_type": "markdown",
      "metadata": {
        "id": "RzG7q6PF40gF"
      },
      "source": [
        "# Imports"
      ]
    },
    {
      "cell_type": "code",
      "metadata": {
        "colab": {
          "base_uri": "https://localhost:8080/"
        },
        "id": "DjXq-MBJA3_W",
        "outputId": "5fa45f64-832e-4e83-b8e5-217136442097"
      },
      "source": [
        "!pip install pycaret\n",
        "# !pip install pydot"
      ],
      "execution_count": null,
      "outputs": [
        {
          "output_type": "stream",
          "text": [
            "Requirement already satisfied: pycaret in /usr/local/lib/python3.7/dist-packages (2.3.3)\n",
            "Requirement already satisfied: scikit-plot in /usr/local/lib/python3.7/dist-packages (from pycaret) (0.3.7)\n",
            "Requirement already satisfied: seaborn in /usr/local/lib/python3.7/dist-packages (from pycaret) (0.11.1)\n",
            "Requirement already satisfied: scikit-learn==0.23.2 in /usr/local/lib/python3.7/dist-packages (from pycaret) (0.23.2)\n",
            "Requirement already satisfied: umap-learn in /usr/local/lib/python3.7/dist-packages (from pycaret) (0.5.1)\n",
            "Requirement already satisfied: gensim<4.0.0 in /usr/local/lib/python3.7/dist-packages (from pycaret) (3.6.0)\n",
            "Requirement already satisfied: spacy<2.4.0 in /usr/local/lib/python3.7/dist-packages (from pycaret) (2.2.4)\n",
            "Requirement already satisfied: mlflow in /usr/local/lib/python3.7/dist-packages (from pycaret) (1.19.0)\n",
            "Requirement already satisfied: lightgbm>=2.3.1 in /usr/local/lib/python3.7/dist-packages (from pycaret) (3.2.1)\n",
            "Requirement already satisfied: pandas in /usr/local/lib/python3.7/dist-packages (from pycaret) (1.1.5)\n",
            "Requirement already satisfied: numpy==1.19.5 in /usr/local/lib/python3.7/dist-packages (from pycaret) (1.19.5)\n",
            "Requirement already satisfied: Boruta in /usr/local/lib/python3.7/dist-packages (from pycaret) (0.3)\n",
            "Requirement already satisfied: ipywidgets in /usr/local/lib/python3.7/dist-packages (from pycaret) (7.6.3)\n",
            "Requirement already satisfied: scipy<=1.5.4 in /usr/local/lib/python3.7/dist-packages (from pycaret) (1.5.4)\n",
            "Requirement already satisfied: imbalanced-learn==0.7.0 in /usr/local/lib/python3.7/dist-packages (from pycaret) (0.7.0)\n",
            "Requirement already satisfied: yellowbrick>=1.0.1 in /usr/local/lib/python3.7/dist-packages (from pycaret) (1.3.post1)\n",
            "Requirement already satisfied: kmodes>=0.10.1 in /usr/local/lib/python3.7/dist-packages (from pycaret) (0.11.0)\n",
            "Requirement already satisfied: pyLDAvis in /usr/local/lib/python3.7/dist-packages (from pycaret) (3.2.2)\n",
            "Requirement already satisfied: matplotlib in /usr/local/lib/python3.7/dist-packages (from pycaret) (3.2.2)\n",
            "Requirement already satisfied: pandas-profiling>=2.8.0 in /usr/local/lib/python3.7/dist-packages (from pycaret) (3.0.0)\n",
            "Requirement already satisfied: nltk in /usr/local/lib/python3.7/dist-packages (from pycaret) (3.2.5)\n",
            "Requirement already satisfied: wordcloud in /usr/local/lib/python3.7/dist-packages (from pycaret) (1.5.0)\n",
            "Requirement already satisfied: plotly>=4.4.1 in /usr/local/lib/python3.7/dist-packages (from pycaret) (4.4.1)\n",
            "Requirement already satisfied: pyod in /usr/local/lib/python3.7/dist-packages (from pycaret) (0.9.0)\n",
            "Requirement already satisfied: IPython in /usr/local/lib/python3.7/dist-packages (from pycaret) (5.5.0)\n",
            "Requirement already satisfied: joblib in /usr/local/lib/python3.7/dist-packages (from pycaret) (1.0.1)\n",
            "Requirement already satisfied: textblob in /usr/local/lib/python3.7/dist-packages (from pycaret) (0.15.3)\n",
            "Requirement already satisfied: cufflinks>=0.17.0 in /usr/local/lib/python3.7/dist-packages (from pycaret) (0.17.3)\n",
            "Requirement already satisfied: mlxtend>=0.17.0 in /usr/local/lib/python3.7/dist-packages (from pycaret) (0.18.0)\n",
            "Requirement already satisfied: threadpoolctl>=2.0.0 in /usr/local/lib/python3.7/dist-packages (from scikit-learn==0.23.2->pycaret) (2.2.0)\n",
            "Requirement already satisfied: colorlover>=0.2.1 in /usr/local/lib/python3.7/dist-packages (from cufflinks>=0.17.0->pycaret) (0.3.0)\n",
            "Requirement already satisfied: six>=1.9.0 in /usr/local/lib/python3.7/dist-packages (from cufflinks>=0.17.0->pycaret) (1.15.0)\n",
            "Requirement already satisfied: setuptools>=34.4.1 in /usr/local/lib/python3.7/dist-packages (from cufflinks>=0.17.0->pycaret) (57.2.0)\n",
            "Requirement already satisfied: smart-open>=1.2.1 in /usr/local/lib/python3.7/dist-packages (from gensim<4.0.0->pycaret) (5.1.0)\n",
            "Requirement already satisfied: traitlets>=4.2 in /usr/local/lib/python3.7/dist-packages (from IPython->pycaret) (5.0.5)\n",
            "Requirement already satisfied: pickleshare in /usr/local/lib/python3.7/dist-packages (from IPython->pycaret) (0.7.5)\n",
            "Requirement already satisfied: simplegeneric>0.8 in /usr/local/lib/python3.7/dist-packages (from IPython->pycaret) (0.8.1)\n",
            "Requirement already satisfied: pexpect in /usr/local/lib/python3.7/dist-packages (from IPython->pycaret) (4.8.0)\n",
            "Requirement already satisfied: decorator in /usr/local/lib/python3.7/dist-packages (from IPython->pycaret) (4.4.2)\n",
            "Requirement already satisfied: prompt-toolkit<2.0.0,>=1.0.4 in /usr/local/lib/python3.7/dist-packages (from IPython->pycaret) (1.0.18)\n",
            "Requirement already satisfied: pygments in /usr/local/lib/python3.7/dist-packages (from IPython->pycaret) (2.6.1)\n",
            "Requirement already satisfied: jupyterlab-widgets>=1.0.0 in /usr/local/lib/python3.7/dist-packages (from ipywidgets->pycaret) (1.0.0)\n",
            "Requirement already satisfied: nbformat>=4.2.0 in /usr/local/lib/python3.7/dist-packages (from ipywidgets->pycaret) (5.1.3)\n",
            "Requirement already satisfied: ipykernel>=4.5.1 in /usr/local/lib/python3.7/dist-packages (from ipywidgets->pycaret) (4.10.1)\n",
            "Requirement already satisfied: widgetsnbextension~=3.5.0 in /usr/local/lib/python3.7/dist-packages (from ipywidgets->pycaret) (3.5.1)\n",
            "Requirement already satisfied: tornado>=4.0 in /usr/local/lib/python3.7/dist-packages (from ipykernel>=4.5.1->ipywidgets->pycaret) (5.1.1)\n",
            "Requirement already satisfied: jupyter-client in /usr/local/lib/python3.7/dist-packages (from ipykernel>=4.5.1->ipywidgets->pycaret) (5.3.5)\n",
            "Requirement already satisfied: wheel in /usr/local/lib/python3.7/dist-packages (from lightgbm>=2.3.1->pycaret) (0.36.2)\n",
            "Requirement already satisfied: python-dateutil>=2.1 in /usr/local/lib/python3.7/dist-packages (from matplotlib->pycaret) (2.8.1)\n",
            "Requirement already satisfied: kiwisolver>=1.0.1 in /usr/local/lib/python3.7/dist-packages (from matplotlib->pycaret) (1.3.1)\n",
            "Requirement already satisfied: cycler>=0.10 in /usr/local/lib/python3.7/dist-packages (from matplotlib->pycaret) (0.10.0)\n",
            "Requirement already satisfied: pyparsing!=2.0.4,!=2.1.2,!=2.1.6,>=2.0.1 in /usr/local/lib/python3.7/dist-packages (from matplotlib->pycaret) (2.4.7)\n",
            "Requirement already satisfied: jupyter-core in /usr/local/lib/python3.7/dist-packages (from nbformat>=4.2.0->ipywidgets->pycaret) (4.7.1)\n",
            "Requirement already satisfied: ipython-genutils in /usr/local/lib/python3.7/dist-packages (from nbformat>=4.2.0->ipywidgets->pycaret) (0.2.0)\n",
            "Requirement already satisfied: jsonschema!=2.5.0,>=2.4 in /usr/local/lib/python3.7/dist-packages (from nbformat>=4.2.0->ipywidgets->pycaret) (2.6.0)\n",
            "Requirement already satisfied: pytz>=2017.2 in /usr/local/lib/python3.7/dist-packages (from pandas->pycaret) (2018.9)\n",
            "Requirement already satisfied: tqdm>=4.48.2 in /usr/local/lib/python3.7/dist-packages (from pandas-profiling>=2.8.0->pycaret) (4.62.0)\n",
            "Requirement already satisfied: pydantic>=1.8.1 in /usr/local/lib/python3.7/dist-packages (from pandas-profiling>=2.8.0->pycaret) (1.8.2)\n",
            "Requirement already satisfied: jinja2>=2.11.1 in /usr/local/lib/python3.7/dist-packages (from pandas-profiling>=2.8.0->pycaret) (2.11.3)\n",
            "Requirement already satisfied: missingno>=0.4.2 in /usr/local/lib/python3.7/dist-packages (from pandas-profiling>=2.8.0->pycaret) (0.5.0)\n",
            "Requirement already satisfied: PyYAML>=5.0.0 in /usr/local/lib/python3.7/dist-packages (from pandas-profiling>=2.8.0->pycaret) (5.4.1)\n",
            "Requirement already satisfied: visions[type_image_path]==0.7.1 in /usr/local/lib/python3.7/dist-packages (from pandas-profiling>=2.8.0->pycaret) (0.7.1)\n",
            "Requirement already satisfied: phik>=0.11.1 in /usr/local/lib/python3.7/dist-packages (from pandas-profiling>=2.8.0->pycaret) (0.12.0)\n",
            "Requirement already satisfied: htmlmin>=0.1.12 in /usr/local/lib/python3.7/dist-packages (from pandas-profiling>=2.8.0->pycaret) (0.1.12)\n",
            "Requirement already satisfied: tangled-up-in-unicode==0.1.0 in /usr/local/lib/python3.7/dist-packages (from pandas-profiling>=2.8.0->pycaret) (0.1.0)\n",
            "Requirement already satisfied: requests>=2.24.0 in /usr/local/lib/python3.7/dist-packages (from pandas-profiling>=2.8.0->pycaret) (2.26.0)\n",
            "Requirement already satisfied: multimethod==1.4 in /usr/local/lib/python3.7/dist-packages (from visions[type_image_path]==0.7.1->pandas-profiling>=2.8.0->pycaret) (1.4)\n",
            "Requirement already satisfied: attrs>=19.3.0 in /usr/local/lib/python3.7/dist-packages (from visions[type_image_path]==0.7.1->pandas-profiling>=2.8.0->pycaret) (21.2.0)\n",
            "Requirement already satisfied: networkx>=2.4 in /usr/local/lib/python3.7/dist-packages (from visions[type_image_path]==0.7.1->pandas-profiling>=2.8.0->pycaret) (2.5.1)\n",
            "Requirement already satisfied: bottleneck in /usr/local/lib/python3.7/dist-packages (from visions[type_image_path]==0.7.1->pandas-profiling>=2.8.0->pycaret) (1.3.2)\n",
            "Requirement already satisfied: imagehash in /usr/local/lib/python3.7/dist-packages (from visions[type_image_path]==0.7.1->pandas-profiling>=2.8.0->pycaret) (4.2.1)\n",
            "Requirement already satisfied: Pillow in /usr/local/lib/python3.7/dist-packages (from visions[type_image_path]==0.7.1->pandas-profiling>=2.8.0->pycaret) (7.1.2)\n",
            "Requirement already satisfied: MarkupSafe>=0.23 in /usr/local/lib/python3.7/dist-packages (from jinja2>=2.11.1->pandas-profiling>=2.8.0->pycaret) (2.0.1)\n",
            "Requirement already satisfied: retrying>=1.3.3 in /usr/local/lib/python3.7/dist-packages (from plotly>=4.4.1->pycaret) (1.3.3)\n",
            "Requirement already satisfied: wcwidth in /usr/local/lib/python3.7/dist-packages (from prompt-toolkit<2.0.0,>=1.0.4->IPython->pycaret) (0.2.5)\n",
            "Requirement already satisfied: typing-extensions>=3.7.4.3 in /usr/local/lib/python3.7/dist-packages (from pydantic>=1.8.1->pandas-profiling>=2.8.0->pycaret) (3.7.4.3)\n",
            "Requirement already satisfied: idna<4,>=2.5 in /usr/local/lib/python3.7/dist-packages (from requests>=2.24.0->pandas-profiling>=2.8.0->pycaret) (2.10)\n",
            "Requirement already satisfied: charset-normalizer~=2.0.0 in /usr/local/lib/python3.7/dist-packages (from requests>=2.24.0->pandas-profiling>=2.8.0->pycaret) (2.0.2)\n",
            "Requirement already satisfied: certifi>=2017.4.17 in /usr/local/lib/python3.7/dist-packages (from requests>=2.24.0->pandas-profiling>=2.8.0->pycaret) (2021.5.30)\n",
            "Requirement already satisfied: urllib3<1.27,>=1.21.1 in /usr/local/lib/python3.7/dist-packages (from requests>=2.24.0->pandas-profiling>=2.8.0->pycaret) (1.24.3)\n",
            "Requirement already satisfied: blis<0.5.0,>=0.4.0 in /usr/local/lib/python3.7/dist-packages (from spacy<2.4.0->pycaret) (0.4.1)\n",
            "Requirement already satisfied: preshed<3.1.0,>=3.0.2 in /usr/local/lib/python3.7/dist-packages (from spacy<2.4.0->pycaret) (3.0.5)\n",
            "Requirement already satisfied: cymem<2.1.0,>=2.0.2 in /usr/local/lib/python3.7/dist-packages (from spacy<2.4.0->pycaret) (2.0.5)\n",
            "Requirement already satisfied: plac<1.2.0,>=0.9.6 in /usr/local/lib/python3.7/dist-packages (from spacy<2.4.0->pycaret) (1.1.3)\n",
            "Requirement already satisfied: murmurhash<1.1.0,>=0.28.0 in /usr/local/lib/python3.7/dist-packages (from spacy<2.4.0->pycaret) (1.0.5)\n",
            "Requirement already satisfied: catalogue<1.1.0,>=0.0.7 in /usr/local/lib/python3.7/dist-packages (from spacy<2.4.0->pycaret) (1.0.0)\n",
            "Requirement already satisfied: thinc==7.4.0 in /usr/local/lib/python3.7/dist-packages (from spacy<2.4.0->pycaret) (7.4.0)\n",
            "Requirement already satisfied: srsly<1.1.0,>=1.0.2 in /usr/local/lib/python3.7/dist-packages (from spacy<2.4.0->pycaret) (1.0.5)\n",
            "Requirement already satisfied: wasabi<1.1.0,>=0.4.0 in /usr/local/lib/python3.7/dist-packages (from spacy<2.4.0->pycaret) (0.8.2)\n",
            "Requirement already satisfied: importlib-metadata>=0.20 in /usr/local/lib/python3.7/dist-packages (from catalogue<1.1.0,>=0.0.7->spacy<2.4.0->pycaret) (4.6.1)\n",
            "Requirement already satisfied: zipp>=0.5 in /usr/local/lib/python3.7/dist-packages (from importlib-metadata>=0.20->catalogue<1.1.0,>=0.0.7->spacy<2.4.0->pycaret) (3.5.0)\n",
            "Requirement already satisfied: notebook>=4.4.1 in /usr/local/lib/python3.7/dist-packages (from widgetsnbextension~=3.5.0->ipywidgets->pycaret) (5.3.1)\n",
            "Requirement already satisfied: Send2Trash in /usr/local/lib/python3.7/dist-packages (from notebook>=4.4.1->widgetsnbextension~=3.5.0->ipywidgets->pycaret) (1.7.1)\n",
            "Requirement already satisfied: terminado>=0.8.1 in /usr/local/lib/python3.7/dist-packages (from notebook>=4.4.1->widgetsnbextension~=3.5.0->ipywidgets->pycaret) (0.10.1)\n",
            "Requirement already satisfied: nbconvert in /usr/local/lib/python3.7/dist-packages (from notebook>=4.4.1->widgetsnbextension~=3.5.0->ipywidgets->pycaret) (5.6.1)\n",
            "Requirement already satisfied: pyzmq>=13 in /usr/local/lib/python3.7/dist-packages (from jupyter-client->ipykernel>=4.5.1->ipywidgets->pycaret) (22.1.0)\n",
            "Requirement already satisfied: ptyprocess in /usr/local/lib/python3.7/dist-packages (from terminado>=0.8.1->notebook>=4.4.1->widgetsnbextension~=3.5.0->ipywidgets->pycaret) (0.7.0)\n",
            "Requirement already satisfied: PyWavelets in /usr/local/lib/python3.7/dist-packages (from imagehash->visions[type_image_path]==0.7.1->pandas-profiling>=2.8.0->pycaret) (1.1.1)\n",
            "Requirement already satisfied: sqlalchemy in /usr/local/lib/python3.7/dist-packages (from mlflow->pycaret) (1.4.20)\n",
            "Requirement already satisfied: click>=7.0 in /usr/local/lib/python3.7/dist-packages (from mlflow->pycaret) (7.1.2)\n",
            "Requirement already satisfied: querystring-parser in /usr/local/lib/python3.7/dist-packages (from mlflow->pycaret) (1.2.4)\n",
            "Requirement already satisfied: docker>=4.0.0 in /usr/local/lib/python3.7/dist-packages (from mlflow->pycaret) (5.0.0)\n",
            "Requirement already satisfied: gitpython>=2.1.0 in /usr/local/lib/python3.7/dist-packages (from mlflow->pycaret) (3.1.18)\n",
            "Requirement already satisfied: protobuf>=3.7.0 in /usr/local/lib/python3.7/dist-packages (from mlflow->pycaret) (3.17.3)\n",
            "Requirement already satisfied: Flask in /usr/local/lib/python3.7/dist-packages (from mlflow->pycaret) (1.1.4)\n",
            "Requirement already satisfied: gunicorn in /usr/local/lib/python3.7/dist-packages (from mlflow->pycaret) (20.1.0)\n",
            "Requirement already satisfied: databricks-cli>=0.8.7 in /usr/local/lib/python3.7/dist-packages (from mlflow->pycaret) (0.15.0)\n",
            "Requirement already satisfied: alembic<=1.4.1 in /usr/local/lib/python3.7/dist-packages (from mlflow->pycaret) (1.4.1)\n",
            "Requirement already satisfied: entrypoints in /usr/local/lib/python3.7/dist-packages (from mlflow->pycaret) (0.3)\n",
            "Requirement already satisfied: prometheus-flask-exporter in /usr/local/lib/python3.7/dist-packages (from mlflow->pycaret) (0.18.2)\n",
            "Requirement already satisfied: packaging in /usr/local/lib/python3.7/dist-packages (from mlflow->pycaret) (21.0)\n",
            "Requirement already satisfied: cloudpickle in /usr/local/lib/python3.7/dist-packages (from mlflow->pycaret) (1.3.0)\n",
            "Requirement already satisfied: sqlparse>=0.3.1 in /usr/local/lib/python3.7/dist-packages (from mlflow->pycaret) (0.4.1)\n",
            "Requirement already satisfied: python-editor>=0.3 in /usr/local/lib/python3.7/dist-packages (from alembic<=1.4.1->mlflow->pycaret) (1.0.4)\n",
            "Requirement already satisfied: Mako in /usr/local/lib/python3.7/dist-packages (from alembic<=1.4.1->mlflow->pycaret) (1.1.4)\n",
            "Requirement already satisfied: tabulate>=0.7.7 in /usr/local/lib/python3.7/dist-packages (from databricks-cli>=0.8.7->mlflow->pycaret) (0.8.9)\n",
            "Requirement already satisfied: websocket-client>=0.32.0 in /usr/local/lib/python3.7/dist-packages (from docker>=4.0.0->mlflow->pycaret) (1.1.1)\n",
            "Requirement already satisfied: gitdb<5,>=4.0.1 in /usr/local/lib/python3.7/dist-packages (from gitpython>=2.1.0->mlflow->pycaret) (4.0.7)\n",
            "Requirement already satisfied: smmap<5,>=3.0.1 in /usr/local/lib/python3.7/dist-packages (from gitdb<5,>=4.0.1->gitpython>=2.1.0->mlflow->pycaret) (4.0.0)\n",
            "Requirement already satisfied: greenlet!=0.4.17 in /usr/local/lib/python3.7/dist-packages (from sqlalchemy->mlflow->pycaret) (1.1.0)\n",
            "Requirement already satisfied: Werkzeug<2.0,>=0.15 in /usr/local/lib/python3.7/dist-packages (from Flask->mlflow->pycaret) (1.0.1)\n",
            "Requirement already satisfied: itsdangerous<2.0,>=0.24 in /usr/local/lib/python3.7/dist-packages (from Flask->mlflow->pycaret) (1.1.0)\n",
            "Requirement already satisfied: mistune<2,>=0.8.1 in /usr/local/lib/python3.7/dist-packages (from nbconvert->notebook>=4.4.1->widgetsnbextension~=3.5.0->ipywidgets->pycaret) (0.8.4)\n",
            "Requirement already satisfied: pandocfilters>=1.4.1 in /usr/local/lib/python3.7/dist-packages (from nbconvert->notebook>=4.4.1->widgetsnbextension~=3.5.0->ipywidgets->pycaret) (1.4.3)\n",
            "Requirement already satisfied: defusedxml in /usr/local/lib/python3.7/dist-packages (from nbconvert->notebook>=4.4.1->widgetsnbextension~=3.5.0->ipywidgets->pycaret) (0.7.1)\n",
            "Requirement already satisfied: testpath in /usr/local/lib/python3.7/dist-packages (from nbconvert->notebook>=4.4.1->widgetsnbextension~=3.5.0->ipywidgets->pycaret) (0.5.0)\n",
            "Requirement already satisfied: bleach in /usr/local/lib/python3.7/dist-packages (from nbconvert->notebook>=4.4.1->widgetsnbextension~=3.5.0->ipywidgets->pycaret) (3.3.0)\n",
            "Requirement already satisfied: webencodings in /usr/local/lib/python3.7/dist-packages (from bleach->nbconvert->notebook>=4.4.1->widgetsnbextension~=3.5.0->ipywidgets->pycaret) (0.5.1)\n",
            "Requirement already satisfied: prometheus-client in /usr/local/lib/python3.7/dist-packages (from prometheus-flask-exporter->mlflow->pycaret) (0.11.0)\n",
            "Requirement already satisfied: future in /usr/local/lib/python3.7/dist-packages (from pyLDAvis->pycaret) (0.16.0)\n",
            "Requirement already satisfied: funcy in /usr/local/lib/python3.7/dist-packages (from pyLDAvis->pycaret) (1.16)\n",
            "Requirement already satisfied: numexpr in /usr/local/lib/python3.7/dist-packages (from pyLDAvis->pycaret) (2.7.3)\n",
            "Requirement already satisfied: numba>=0.35 in /usr/local/lib/python3.7/dist-packages (from pyod->pycaret) (0.51.2)\n",
            "Requirement already satisfied: statsmodels in /usr/local/lib/python3.7/dist-packages (from pyod->pycaret) (0.10.2)\n",
            "Requirement already satisfied: llvmlite<0.35,>=0.34.0.dev0 in /usr/local/lib/python3.7/dist-packages (from numba>=0.35->pyod->pycaret) (0.34.0)\n",
            "Requirement already satisfied: patsy>=0.4.0 in /usr/local/lib/python3.7/dist-packages (from statsmodels->pyod->pycaret) (0.5.1)\n",
            "Requirement already satisfied: pynndescent>=0.5 in /usr/local/lib/python3.7/dist-packages (from umap-learn->pycaret) (0.5.4)\n"
          ],
          "name": "stdout"
        }
      ]
    },
    {
      "cell_type": "code",
      "metadata": {
        "id": "_3laq8eu4tQi"
      },
      "source": [
        "import os \n",
        "from collections import defaultdict\n",
        "import matplotlib\n",
        "import matplotlib.pyplot as plt\n",
        "import traceback\n",
        "from bs4 import BeautifulSoup, SoupStrainer\n",
        "import sys\n",
        "import re\n",
        "import pandas as pd\n",
        "import numpy as np\n",
        "import networkx as nx\n",
        "import nltk\n",
        "from nltk.corpus import stopwords, words as nltk_corpus_words\n",
        "from nltk.stem import WordNetLemmatizer\n",
        "# from english_words import english_words_set\n",
        "import time\n",
        "import json\n",
        "import wordcloud\n",
        "import functools\n",
        "from pycaret import arules\n",
        "from pycaret.utils import enable_colab\n",
        "from networkx.drawing.nx_agraph import graphviz_layout\n",
        "import random\n",
        "# nltk.download('stopwords')\n",
        "# nltk.download('wordnet')\n",
        "# nltk.download('words')\n",
        "# nltk.download('averaged_perceptron_tagger')"
      ],
      "execution_count": null,
      "outputs": []
    },
    {
      "cell_type": "code",
      "metadata": {
        "id": "Frko7gEgRsu9"
      },
      "source": [
        "from IPython.display import HTML\n",
        "import plotly.express as px\n",
        "import plotly.graph_objects as go"
      ],
      "execution_count": null,
      "outputs": []
    },
    {
      "cell_type": "code",
      "metadata": {
        "id": "BbvatDR6L8Za"
      },
      "source": [
        "# enable_colab()"
      ],
      "execution_count": null,
      "outputs": []
    },
    {
      "cell_type": "markdown",
      "metadata": {
        "id": "YUxPYkTG3PLi"
      },
      "source": [
        "# Set up"
      ]
    },
    {
      "cell_type": "code",
      "metadata": {
        "id": "VFeV60PG3OVy"
      },
      "source": [
        "# Get table_columns_info from saved json file (generated by Intra_Entity_Analysis.ipynb)\n",
        "# Generate a dict {column_name : words} (as transaction database)\n",
        "# Generate a dict {table_name : columns} (to know which columns(transactions) to take for particular table - helps in setting up database)\n",
        "table_columns_info_file = \"/content/drive/MyDrive/Process_Mining_SOP/Sharanya/OutcomeFolder/table_column_info.json\"\n",
        "\n",
        "with open(table_columns_info_file) as infile:\n",
        "  table_columns_info_json = json.load(infile)"
      ],
      "execution_count": null,
      "outputs": []
    },
    {
      "cell_type": "code",
      "metadata": {
        "id": "Ts7ppvzR5GTr"
      },
      "source": [
        "column_words_dict = {}\n",
        "table_columns_dict = {}\n",
        "\n",
        "for filename, column_data in table_columns_info_json.items():\n",
        "  if filename not in table_columns_dict:\n",
        "    table_columns_dict[filename] = list(column_data.keys())\n",
        "  else:\n",
        "    print(f\"Table {filename} found again\")\n",
        "\n",
        "  for column_name, column_info in column_data.items():\n",
        "    if column_name not in column_words_dict:\n",
        "      column_words_dict[column_name] = column_info['words']\n",
        "    else:\n",
        "      continue\n",
        "      print(f\"Column {column_name} encountered before\")\n"
      ],
      "execution_count": null,
      "outputs": []
    },
    {
      "cell_type": "code",
      "metadata": {
        "colab": {
          "base_uri": "https://localhost:8080/"
        },
        "id": "EQL3Bdsc6JAA",
        "outputId": "b69b66f1-5985-42fa-9d4d-b4e5170007f4"
      },
      "source": [
        "len(table_columns_dict)"
      ],
      "execution_count": null,
      "outputs": [
        {
          "output_type": "execute_result",
          "data": {
            "text/plain": [
              "879"
            ]
          },
          "metadata": {
            "tags": []
          },
          "execution_count": 9
        }
      ]
    },
    {
      "cell_type": "code",
      "metadata": {
        "colab": {
          "base_uri": "https://localhost:8080/"
        },
        "id": "o9BAQn_t48rG",
        "outputId": "77d82c29-71fc-4dee-9cd4-24fb63b2e994"
      },
      "source": [
        "len(table_columns_info_json)"
      ],
      "execution_count": null,
      "outputs": [
        {
          "output_type": "execute_result",
          "data": {
            "text/plain": [
              "879"
            ]
          },
          "metadata": {
            "tags": []
          },
          "execution_count": 10
        }
      ]
    },
    {
      "cell_type": "markdown",
      "metadata": {
        "id": "IM0FG3k6Dwge"
      },
      "source": [
        "# Options"
      ]
    },
    {
      "cell_type": "code",
      "metadata": {
        "id": "ghKy0m0LDunb"
      },
      "source": [
        "pd.set_option('display.max_rows', None)"
      ],
      "execution_count": null,
      "outputs": []
    },
    {
      "cell_type": "markdown",
      "metadata": {
        "id": "l9KsiPcc7Yza"
      },
      "source": [
        "# ARM"
      ]
    },
    {
      "cell_type": "code",
      "metadata": {
        "id": "xfrM7_mN7YHy"
      },
      "source": [
        "# Take in a list of tables to set up the database\n",
        "def get_database(database_table_list):\n",
        "  global table_columns_dict, column_words_dict\n",
        "\n",
        "  database = {'column_name':[], 'word':[], 'from_table':[]}\n",
        "  columns_taken = set()\n",
        "\n",
        "  for table in database_table_list:\n",
        "    if table not in table_columns_dict:\n",
        "      print(f\"Table {table} not found in table_columns_dict\")\n",
        "      continue\n",
        "    for column in table_columns_dict[table]:\n",
        "      if column in columns_taken:\n",
        "        continue\n",
        "      else:\n",
        "        columns_taken.add(column)\n",
        "        for word in column_words_dict[column]:\n",
        "          database['column_name'].append(column)\n",
        "          database['word'].append(word)\n",
        "          database['from_table'].append(table)\n",
        "  \n",
        "  return database"
      ],
      "execution_count": null,
      "outputs": []
    },
    {
      "cell_type": "code",
      "metadata": {
        "colab": {
          "base_uri": "https://localhost:8080/"
        },
        "id": "E4-uoEvPaV-3",
        "outputId": "af5c56fd-e28a-4d8f-d6a6-a5120d3f2341"
      },
      "source": [
        "random_table_list = list(table_columns_dict.keys())\n",
        "random.shuffle(random_table_list)\n",
        "random_table_list_selection = random_table_list[0::10]\n",
        "len(random_table_list_selection)"
      ],
      "execution_count": null,
      "outputs": [
        {
          "output_type": "execute_result",
          "data": {
            "text/plain": [
              "88"
            ]
          },
          "metadata": {
            "tags": []
          },
          "execution_count": 13
        }
      ]
    },
    {
      "cell_type": "code",
      "metadata": {
        "id": "HZ3Dx0aZjGn1"
      },
      "source": [
        "def find_columns(word_list):\n",
        "  global database_df\n",
        "\n",
        "  word_count_per_col = database_df[database_df['word'].isin(word_list)].groupby(by='column_name').agg({'word':'count', 'from_table':'first'}).reset_index()\n",
        "  columns_satisfying = word_count_per_col[word_count_per_col['word'] == len(word_list)][['column_name', 'from_table']].values\n",
        "\n",
        "  return columns_satisfying.tolist()"
      ],
      "execution_count": null,
      "outputs": []
    },
    {
      "cell_type": "code",
      "metadata": {
        "id": "O5tSVr0r6HGi"
      },
      "source": [
        "def set_to_string(given_set):\n",
        "  # print(given_set)\n",
        "  # if len(given_set) > 1:\n",
        "  #   return None\n",
        "  # else:\n",
        "  #   return list(given_set)[0]\n",
        "  return ' '.join(list(given_set))"
      ],
      "execution_count": null,
      "outputs": []
    },
    {
      "cell_type": "code",
      "metadata": {
        "id": "5jhuzTqa4RKW"
      },
      "source": [
        "def convert_set_to_string(df_series):\n",
        "  new_arr = pd.Series(list(map(set_to_string, df_series)))\n",
        "  return new_arr"
      ],
      "execution_count": null,
      "outputs": []
    },
    {
      "cell_type": "code",
      "metadata": {
        "id": "H2HgmaiGFRNj"
      },
      "source": [
        "def reduce_consequents(series):\n",
        "  return functools.reduce(lambda x, y: x+','+y, series)"
      ],
      "execution_count": null,
      "outputs": []
    },
    {
      "cell_type": "code",
      "metadata": {
        "id": "H9e3062ToQm0"
      },
      "source": [
        "def get_columns_tables(row):\n",
        "  # print(f\"row is\\n{row}\")\n",
        "  all_words = row['antecedents'].split()\n",
        "  all_words.extend(row['consequents'].split())\n",
        "\n",
        "  cols_tables = '\\n'.join([col_table[0]+\" : \"+col_table[1] for col_table in find_columns(all_words)])\n",
        "  # print(f\"returning {tuple([len(cols_tables), cols_tables])}\")\n",
        "  return cols_tables"
      ],
      "execution_count": null,
      "outputs": []
    },
    {
      "cell_type": "code",
      "metadata": {
        "colab": {
          "base_uri": "https://localhost:8080/",
          "height": 1000
        },
        "id": "MMFrAE8S1MUL",
        "outputId": "1fc6171a-cc9b-42f2-a470-0d77d05061a3"
      },
      "source": [
        "num_of_tables_per_run = 100\n",
        "num_of_runs = int(np.ceil(len(random_table_list)/num_of_tables_per_run))\n",
        "\n",
        "for i in range(num_of_runs):\n",
        "  print(f\"On batch {i}\")\n",
        "  current_table_list = random_table_list[i*num_of_tables_per_run:(i+1)*num_of_tables_per_run]\n",
        "  database = get_database(list(current_table_list))\n",
        "  database_df = pd.DataFrame.from_dict(database)\n",
        "  print(f\"Generated databse\")\n",
        "  setup_result = arules.setup(data=database_df,\n",
        "                            transaction_id= 'column_name',\n",
        "                            item_id = 'word')\n",
        "  model = arules.create_model(threshold=0, min_support=0.1/(len(database_df['column_name'].unique())), max_len=2)\n",
        "  print(f\"Model shape is {model.shape}\")\n",
        "  model['consequents'] = convert_set_to_string(model['consequents'])\n",
        "  model['antecedents'] = convert_set_to_string(model['antecedents']) \n",
        "  model.sort_values('confidence', ascending=False, inplace=True)\n",
        "  print(f\"Generated final model\")\n",
        "  model[['antecedents', 'consequents']].to_csv('/content/drive/MyDrive/Process_Mining_SOP/'+'random_'+str(num_of_tables_per_run)+'_tables_batch_'+str(i)+'.csv', header=False, index=False)\n",
        "  print(f\"Model saved\")\n",
        "  print()\n"
      ],
      "execution_count": null,
      "outputs": [
        {
          "output_type": "stream",
          "text": [
            "On batch 0\n",
            "Generated databse\n"
          ],
          "name": "stdout"
        },
        {
          "output_type": "display_data",
          "data": {
            "text/html": [
              "<style  type=\"text/css\" >\n",
              "</style><table id=\"T_eda2b03a_f75e_11eb_b097_0242ac1c0002\" ><thead>    <tr>        <th class=\"col_heading level0 col0\" >Description</th>        <th class=\"col_heading level0 col1\" >Value</th>    </tr></thead><tbody>\n",
              "                <tr>\n",
              "                                <td id=\"T_eda2b03a_f75e_11eb_b097_0242ac1c0002row0_col0\" class=\"data row0 col0\" >session_id</td>\n",
              "                        <td id=\"T_eda2b03a_f75e_11eb_b097_0242ac1c0002row0_col1\" class=\"data row0 col1\" >6594</td>\n",
              "            </tr>\n",
              "            <tr>\n",
              "                                <td id=\"T_eda2b03a_f75e_11eb_b097_0242ac1c0002row1_col0\" class=\"data row1 col0\" ># Transactions</td>\n",
              "                        <td id=\"T_eda2b03a_f75e_11eb_b097_0242ac1c0002row1_col1\" class=\"data row1 col1\" >784</td>\n",
              "            </tr>\n",
              "            <tr>\n",
              "                                <td id=\"T_eda2b03a_f75e_11eb_b097_0242ac1c0002row2_col0\" class=\"data row2 col0\" ># Items</td>\n",
              "                        <td id=\"T_eda2b03a_f75e_11eb_b097_0242ac1c0002row2_col1\" class=\"data row2 col1\" >488</td>\n",
              "            </tr>\n",
              "            <tr>\n",
              "                                <td id=\"T_eda2b03a_f75e_11eb_b097_0242ac1c0002row3_col0\" class=\"data row3 col0\" >Ignore Items</td>\n",
              "                        <td id=\"T_eda2b03a_f75e_11eb_b097_0242ac1c0002row3_col1\" class=\"data row3 col1\" >None</td>\n",
              "            </tr>\n",
              "    </tbody></table>"
            ],
            "text/plain": [
              "<pandas.io.formats.style.Styler at 0x7f0b9e1b90d0>"
            ]
          },
          "metadata": {
            "tags": []
          }
        },
        {
          "output_type": "stream",
          "text": [
            "Model shape is (1642, 9)\n",
            "Generated final model\n",
            "Model saved\n",
            "\n",
            "On batch 1\n",
            "Generated databse\n"
          ],
          "name": "stdout"
        },
        {
          "output_type": "display_data",
          "data": {
            "text/html": [
              "<style  type=\"text/css\" >\n",
              "</style><table id=\"T_ee647210_f75e_11eb_b097_0242ac1c0002\" ><thead>    <tr>        <th class=\"col_heading level0 col0\" >Description</th>        <th class=\"col_heading level0 col1\" >Value</th>    </tr></thead><tbody>\n",
              "                <tr>\n",
              "                                <td id=\"T_ee647210_f75e_11eb_b097_0242ac1c0002row0_col0\" class=\"data row0 col0\" >session_id</td>\n",
              "                        <td id=\"T_ee647210_f75e_11eb_b097_0242ac1c0002row0_col1\" class=\"data row0 col1\" >1455</td>\n",
              "            </tr>\n",
              "            <tr>\n",
              "                                <td id=\"T_ee647210_f75e_11eb_b097_0242ac1c0002row1_col0\" class=\"data row1 col0\" ># Transactions</td>\n",
              "                        <td id=\"T_ee647210_f75e_11eb_b097_0242ac1c0002row1_col1\" class=\"data row1 col1\" >818</td>\n",
              "            </tr>\n",
              "            <tr>\n",
              "                                <td id=\"T_ee647210_f75e_11eb_b097_0242ac1c0002row2_col0\" class=\"data row2 col0\" ># Items</td>\n",
              "                        <td id=\"T_ee647210_f75e_11eb_b097_0242ac1c0002row2_col1\" class=\"data row2 col1\" >514</td>\n",
              "            </tr>\n",
              "            <tr>\n",
              "                                <td id=\"T_ee647210_f75e_11eb_b097_0242ac1c0002row3_col0\" class=\"data row3 col0\" >Ignore Items</td>\n",
              "                        <td id=\"T_ee647210_f75e_11eb_b097_0242ac1c0002row3_col1\" class=\"data row3 col1\" >None</td>\n",
              "            </tr>\n",
              "    </tbody></table>"
            ],
            "text/plain": [
              "<pandas.io.formats.style.Styler at 0x7f0ba4fb4110>"
            ]
          },
          "metadata": {
            "tags": []
          }
        },
        {
          "output_type": "stream",
          "text": [
            "Model shape is (1682, 9)\n",
            "Generated final model\n",
            "Model saved\n",
            "\n",
            "On batch 2\n",
            "Generated databse\n"
          ],
          "name": "stdout"
        },
        {
          "output_type": "display_data",
          "data": {
            "text/html": [
              "<style  type=\"text/css\" >\n",
              "</style><table id=\"T_ef1d50d2_f75e_11eb_b097_0242ac1c0002\" ><thead>    <tr>        <th class=\"col_heading level0 col0\" >Description</th>        <th class=\"col_heading level0 col1\" >Value</th>    </tr></thead><tbody>\n",
              "                <tr>\n",
              "                                <td id=\"T_ef1d50d2_f75e_11eb_b097_0242ac1c0002row0_col0\" class=\"data row0 col0\" >session_id</td>\n",
              "                        <td id=\"T_ef1d50d2_f75e_11eb_b097_0242ac1c0002row0_col1\" class=\"data row0 col1\" >1089</td>\n",
              "            </tr>\n",
              "            <tr>\n",
              "                                <td id=\"T_ef1d50d2_f75e_11eb_b097_0242ac1c0002row1_col0\" class=\"data row1 col0\" ># Transactions</td>\n",
              "                        <td id=\"T_ef1d50d2_f75e_11eb_b097_0242ac1c0002row1_col1\" class=\"data row1 col1\" >1113</td>\n",
              "            </tr>\n",
              "            <tr>\n",
              "                                <td id=\"T_ef1d50d2_f75e_11eb_b097_0242ac1c0002row2_col0\" class=\"data row2 col0\" ># Items</td>\n",
              "                        <td id=\"T_ef1d50d2_f75e_11eb_b097_0242ac1c0002row2_col1\" class=\"data row2 col1\" >677</td>\n",
              "            </tr>\n",
              "            <tr>\n",
              "                                <td id=\"T_ef1d50d2_f75e_11eb_b097_0242ac1c0002row3_col0\" class=\"data row3 col0\" >Ignore Items</td>\n",
              "                        <td id=\"T_ef1d50d2_f75e_11eb_b097_0242ac1c0002row3_col1\" class=\"data row3 col1\" >None</td>\n",
              "            </tr>\n",
              "    </tbody></table>"
            ],
            "text/plain": [
              "<pandas.io.formats.style.Styler at 0x7f0b9e405f90>"
            ]
          },
          "metadata": {
            "tags": []
          }
        },
        {
          "output_type": "stream",
          "text": [
            "Model shape is (2358, 9)\n",
            "Generated final model\n",
            "Model saved\n",
            "\n",
            "On batch 3\n",
            "Generated databse\n"
          ],
          "name": "stdout"
        },
        {
          "output_type": "display_data",
          "data": {
            "text/html": [
              "<style  type=\"text/css\" >\n",
              "</style><table id=\"T_f0d234c4_f75e_11eb_b097_0242ac1c0002\" ><thead>    <tr>        <th class=\"col_heading level0 col0\" >Description</th>        <th class=\"col_heading level0 col1\" >Value</th>    </tr></thead><tbody>\n",
              "                <tr>\n",
              "                                <td id=\"T_f0d234c4_f75e_11eb_b097_0242ac1c0002row0_col0\" class=\"data row0 col0\" >session_id</td>\n",
              "                        <td id=\"T_f0d234c4_f75e_11eb_b097_0242ac1c0002row0_col1\" class=\"data row0 col1\" >6248</td>\n",
              "            </tr>\n",
              "            <tr>\n",
              "                                <td id=\"T_f0d234c4_f75e_11eb_b097_0242ac1c0002row1_col0\" class=\"data row1 col0\" ># Transactions</td>\n",
              "                        <td id=\"T_f0d234c4_f75e_11eb_b097_0242ac1c0002row1_col1\" class=\"data row1 col1\" >745</td>\n",
              "            </tr>\n",
              "            <tr>\n",
              "                                <td id=\"T_f0d234c4_f75e_11eb_b097_0242ac1c0002row2_col0\" class=\"data row2 col0\" ># Items</td>\n",
              "                        <td id=\"T_f0d234c4_f75e_11eb_b097_0242ac1c0002row2_col1\" class=\"data row2 col1\" >489</td>\n",
              "            </tr>\n",
              "            <tr>\n",
              "                                <td id=\"T_f0d234c4_f75e_11eb_b097_0242ac1c0002row3_col0\" class=\"data row3 col0\" >Ignore Items</td>\n",
              "                        <td id=\"T_f0d234c4_f75e_11eb_b097_0242ac1c0002row3_col1\" class=\"data row3 col1\" >None</td>\n",
              "            </tr>\n",
              "    </tbody></table>"
            ],
            "text/plain": [
              "<pandas.io.formats.style.Styler at 0x7f0b9e971b10>"
            ]
          },
          "metadata": {
            "tags": []
          }
        },
        {
          "output_type": "stream",
          "text": [
            "Model shape is (1520, 9)\n",
            "Generated final model\n",
            "Model saved\n",
            "\n",
            "On batch 4\n",
            "Generated databse\n"
          ],
          "name": "stdout"
        },
        {
          "output_type": "display_data",
          "data": {
            "text/html": [
              "<style  type=\"text/css\" >\n",
              "</style><table id=\"T_f1693536_f75e_11eb_b097_0242ac1c0002\" ><thead>    <tr>        <th class=\"col_heading level0 col0\" >Description</th>        <th class=\"col_heading level0 col1\" >Value</th>    </tr></thead><tbody>\n",
              "                <tr>\n",
              "                                <td id=\"T_f1693536_f75e_11eb_b097_0242ac1c0002row0_col0\" class=\"data row0 col0\" >session_id</td>\n",
              "                        <td id=\"T_f1693536_f75e_11eb_b097_0242ac1c0002row0_col1\" class=\"data row0 col1\" >336</td>\n",
              "            </tr>\n",
              "            <tr>\n",
              "                                <td id=\"T_f1693536_f75e_11eb_b097_0242ac1c0002row1_col0\" class=\"data row1 col0\" ># Transactions</td>\n",
              "                        <td id=\"T_f1693536_f75e_11eb_b097_0242ac1c0002row1_col1\" class=\"data row1 col1\" >882</td>\n",
              "            </tr>\n",
              "            <tr>\n",
              "                                <td id=\"T_f1693536_f75e_11eb_b097_0242ac1c0002row2_col0\" class=\"data row2 col0\" ># Items</td>\n",
              "                        <td id=\"T_f1693536_f75e_11eb_b097_0242ac1c0002row2_col1\" class=\"data row2 col1\" >532</td>\n",
              "            </tr>\n",
              "            <tr>\n",
              "                                <td id=\"T_f1693536_f75e_11eb_b097_0242ac1c0002row3_col0\" class=\"data row3 col0\" >Ignore Items</td>\n",
              "                        <td id=\"T_f1693536_f75e_11eb_b097_0242ac1c0002row3_col1\" class=\"data row3 col1\" >None</td>\n",
              "            </tr>\n",
              "    </tbody></table>"
            ],
            "text/plain": [
              "<pandas.io.formats.style.Styler at 0x7f0ba4ec3450>"
            ]
          },
          "metadata": {
            "tags": []
          }
        },
        {
          "output_type": "stream",
          "text": [
            "Model shape is (1818, 9)\n",
            "Generated final model\n",
            "Model saved\n",
            "\n",
            "On batch 5\n",
            "Generated databse\n"
          ],
          "name": "stdout"
        },
        {
          "output_type": "display_data",
          "data": {
            "text/html": [
              "<style  type=\"text/css\" >\n",
              "</style><table id=\"T_f2387b5c_f75e_11eb_b097_0242ac1c0002\" ><thead>    <tr>        <th class=\"col_heading level0 col0\" >Description</th>        <th class=\"col_heading level0 col1\" >Value</th>    </tr></thead><tbody>\n",
              "                <tr>\n",
              "                                <td id=\"T_f2387b5c_f75e_11eb_b097_0242ac1c0002row0_col0\" class=\"data row0 col0\" >session_id</td>\n",
              "                        <td id=\"T_f2387b5c_f75e_11eb_b097_0242ac1c0002row0_col1\" class=\"data row0 col1\" >2339</td>\n",
              "            </tr>\n",
              "            <tr>\n",
              "                                <td id=\"T_f2387b5c_f75e_11eb_b097_0242ac1c0002row1_col0\" class=\"data row1 col0\" ># Transactions</td>\n",
              "                        <td id=\"T_f2387b5c_f75e_11eb_b097_0242ac1c0002row1_col1\" class=\"data row1 col1\" >895</td>\n",
              "            </tr>\n",
              "            <tr>\n",
              "                                <td id=\"T_f2387b5c_f75e_11eb_b097_0242ac1c0002row2_col0\" class=\"data row2 col0\" ># Items</td>\n",
              "                        <td id=\"T_f2387b5c_f75e_11eb_b097_0242ac1c0002row2_col1\" class=\"data row2 col1\" >611</td>\n",
              "            </tr>\n",
              "            <tr>\n",
              "                                <td id=\"T_f2387b5c_f75e_11eb_b097_0242ac1c0002row3_col0\" class=\"data row3 col0\" >Ignore Items</td>\n",
              "                        <td id=\"T_f2387b5c_f75e_11eb_b097_0242ac1c0002row3_col1\" class=\"data row3 col1\" >None</td>\n",
              "            </tr>\n",
              "    </tbody></table>"
            ],
            "text/plain": [
              "<pandas.io.formats.style.Styler at 0x7f0b9e281190>"
            ]
          },
          "metadata": {
            "tags": []
          }
        },
        {
          "output_type": "stream",
          "text": [
            "Model shape is (1898, 9)\n",
            "Generated final model\n",
            "Model saved\n",
            "\n",
            "On batch 6\n",
            "Generated databse\n"
          ],
          "name": "stdout"
        },
        {
          "output_type": "display_data",
          "data": {
            "text/html": [
              "<style  type=\"text/css\" >\n",
              "</style><table id=\"T_f349237a_f75e_11eb_b097_0242ac1c0002\" ><thead>    <tr>        <th class=\"col_heading level0 col0\" >Description</th>        <th class=\"col_heading level0 col1\" >Value</th>    </tr></thead><tbody>\n",
              "                <tr>\n",
              "                                <td id=\"T_f349237a_f75e_11eb_b097_0242ac1c0002row0_col0\" class=\"data row0 col0\" >session_id</td>\n",
              "                        <td id=\"T_f349237a_f75e_11eb_b097_0242ac1c0002row0_col1\" class=\"data row0 col1\" >396</td>\n",
              "            </tr>\n",
              "            <tr>\n",
              "                                <td id=\"T_f349237a_f75e_11eb_b097_0242ac1c0002row1_col0\" class=\"data row1 col0\" ># Transactions</td>\n",
              "                        <td id=\"T_f349237a_f75e_11eb_b097_0242ac1c0002row1_col1\" class=\"data row1 col1\" >876</td>\n",
              "            </tr>\n",
              "            <tr>\n",
              "                                <td id=\"T_f349237a_f75e_11eb_b097_0242ac1c0002row2_col0\" class=\"data row2 col0\" ># Items</td>\n",
              "                        <td id=\"T_f349237a_f75e_11eb_b097_0242ac1c0002row2_col1\" class=\"data row2 col1\" >623</td>\n",
              "            </tr>\n",
              "            <tr>\n",
              "                                <td id=\"T_f349237a_f75e_11eb_b097_0242ac1c0002row3_col0\" class=\"data row3 col0\" >Ignore Items</td>\n",
              "                        <td id=\"T_f349237a_f75e_11eb_b097_0242ac1c0002row3_col1\" class=\"data row3 col1\" >None</td>\n",
              "            </tr>\n",
              "    </tbody></table>"
            ],
            "text/plain": [
              "<pandas.io.formats.style.Styler at 0x7f0b9e1b8fd0>"
            ]
          },
          "metadata": {
            "tags": []
          }
        },
        {
          "output_type": "stream",
          "text": [
            "Model shape is (2266, 9)\n",
            "Generated final model\n",
            "Model saved\n",
            "\n",
            "On batch 7\n",
            "Generated databse\n"
          ],
          "name": "stdout"
        },
        {
          "output_type": "display_data",
          "data": {
            "text/html": [
              "<style  type=\"text/css\" >\n",
              "</style><table id=\"T_f6d85592_f75e_11eb_b097_0242ac1c0002\" ><thead>    <tr>        <th class=\"col_heading level0 col0\" >Description</th>        <th class=\"col_heading level0 col1\" >Value</th>    </tr></thead><tbody>\n",
              "                <tr>\n",
              "                                <td id=\"T_f6d85592_f75e_11eb_b097_0242ac1c0002row0_col0\" class=\"data row0 col0\" >session_id</td>\n",
              "                        <td id=\"T_f6d85592_f75e_11eb_b097_0242ac1c0002row0_col1\" class=\"data row0 col1\" >5745</td>\n",
              "            </tr>\n",
              "            <tr>\n",
              "                                <td id=\"T_f6d85592_f75e_11eb_b097_0242ac1c0002row1_col0\" class=\"data row1 col0\" ># Transactions</td>\n",
              "                        <td id=\"T_f6d85592_f75e_11eb_b097_0242ac1c0002row1_col1\" class=\"data row1 col1\" >1000</td>\n",
              "            </tr>\n",
              "            <tr>\n",
              "                                <td id=\"T_f6d85592_f75e_11eb_b097_0242ac1c0002row2_col0\" class=\"data row2 col0\" ># Items</td>\n",
              "                        <td id=\"T_f6d85592_f75e_11eb_b097_0242ac1c0002row2_col1\" class=\"data row2 col1\" >612</td>\n",
              "            </tr>\n",
              "            <tr>\n",
              "                                <td id=\"T_f6d85592_f75e_11eb_b097_0242ac1c0002row3_col0\" class=\"data row3 col0\" >Ignore Items</td>\n",
              "                        <td id=\"T_f6d85592_f75e_11eb_b097_0242ac1c0002row3_col1\" class=\"data row3 col1\" >None</td>\n",
              "            </tr>\n",
              "    </tbody></table>"
            ],
            "text/plain": [
              "<pandas.io.formats.style.Styler at 0x7f0b9e281710>"
            ]
          },
          "metadata": {
            "tags": []
          }
        },
        {
          "output_type": "stream",
          "text": [
            "Model shape is (2308, 9)\n",
            "Generated final model\n",
            "Model saved\n",
            "\n",
            "On batch 8\n",
            "Generated databse\n"
          ],
          "name": "stdout"
        },
        {
          "output_type": "display_data",
          "data": {
            "text/html": [
              "<style  type=\"text/css\" >\n",
              "</style><table id=\"T_f849160a_f75e_11eb_b097_0242ac1c0002\" ><thead>    <tr>        <th class=\"col_heading level0 col0\" >Description</th>        <th class=\"col_heading level0 col1\" >Value</th>    </tr></thead><tbody>\n",
              "                <tr>\n",
              "                                <td id=\"T_f849160a_f75e_11eb_b097_0242ac1c0002row0_col0\" class=\"data row0 col0\" >session_id</td>\n",
              "                        <td id=\"T_f849160a_f75e_11eb_b097_0242ac1c0002row0_col1\" class=\"data row0 col1\" >2164</td>\n",
              "            </tr>\n",
              "            <tr>\n",
              "                                <td id=\"T_f849160a_f75e_11eb_b097_0242ac1c0002row1_col0\" class=\"data row1 col0\" ># Transactions</td>\n",
              "                        <td id=\"T_f849160a_f75e_11eb_b097_0242ac1c0002row1_col1\" class=\"data row1 col1\" >795</td>\n",
              "            </tr>\n",
              "            <tr>\n",
              "                                <td id=\"T_f849160a_f75e_11eb_b097_0242ac1c0002row2_col0\" class=\"data row2 col0\" ># Items</td>\n",
              "                        <td id=\"T_f849160a_f75e_11eb_b097_0242ac1c0002row2_col1\" class=\"data row2 col1\" >457</td>\n",
              "            </tr>\n",
              "            <tr>\n",
              "                                <td id=\"T_f849160a_f75e_11eb_b097_0242ac1c0002row3_col0\" class=\"data row3 col0\" >Ignore Items</td>\n",
              "                        <td id=\"T_f849160a_f75e_11eb_b097_0242ac1c0002row3_col1\" class=\"data row3 col1\" >None</td>\n",
              "            </tr>\n",
              "    </tbody></table>"
            ],
            "text/plain": [
              "<pandas.io.formats.style.Styler at 0x7f0ba2992b90>"
            ]
          },
          "metadata": {
            "tags": []
          }
        },
        {
          "output_type": "stream",
          "text": [
            "Model shape is (1414, 9)\n",
            "Generated final model\n",
            "Model saved\n",
            "\n"
          ],
          "name": "stdout"
        }
      ]
    },
    {
      "cell_type": "markdown",
      "metadata": {
        "id": "RBacpK5F-F3e"
      },
      "source": [
        "# Running ARM on chains"
      ]
    },
    {
      "cell_type": "code",
      "metadata": {
        "colab": {
          "base_uri": "https://localhost:8080/"
        },
        "id": "PwBmIrV15s9V",
        "outputId": "fd67d434-0cd8-4f6d-f37a-66cef23d3c78"
      },
      "source": [
        "# for i in range(num_of_runs):\n",
        "#   print(f\"Moving to file {i+1} of {num_of_runs}\")\n",
        "#   with open('/content/drive/MyDrive/Process_Mining_SOP/'+'chains_random_'+str(num_of_tables_per_run)+'_tables_batch_'+str(i)+'.csv', 'r') as f:\n",
        "#     for line in f:\n",
        "#       global_chain_num += 1\n",
        "#       words = line.strip(', ').split(',')[:-2]\n",
        "#       if len(words) == 1:\n",
        "#         continue\n",
        "#       for word in words:\n",
        "#         chain_database['chain_id'].append(global_chain_num)\n",
        "#         chain_database['word'].append(word)\n",
        "      \n"
      ],
      "execution_count": null,
      "outputs": [
        {
          "output_type": "stream",
          "text": [
            "Moving to file 1 of 2\n",
            "Moving to file 2 of 2\n"
          ],
          "name": "stdout"
        }
      ]
    },
    {
      "cell_type": "code",
      "metadata": {
        "id": "qlZaos-jkgHy"
      },
      "source": [
        "from mlxtend.preprocessing import TransactionEncoder\n",
        "from mlxtend.frequent_patterns import apriori"
      ],
      "execution_count": null,
      "outputs": []
    },
    {
      "cell_type": "code",
      "metadata": {
        "id": "_PP2xBCZ6LwG"
      },
      "source": [
        "# chain_database = {'chain_id':[], 'word':[]}\n",
        "all_chains_database = []\n",
        "global_chain_num = 0\n",
        "num_of_runs=9\n",
        "num_of_tables_per_run=100"
      ],
      "execution_count": null,
      "outputs": []
    },
    {
      "cell_type": "code",
      "metadata": {
        "colab": {
          "base_uri": "https://localhost:8080/"
        },
        "id": "BU1yw2O2k37o",
        "outputId": "be842e94-e559-4645-be63-21c557bf86d2"
      },
      "source": [
        "for i in range(3, 6):\n",
        "  print(f\"Moving to file {i+1} of {num_of_runs}\")\n",
        "  with open('/content/drive/MyDrive/Process_Mining_SOP/'+'chains_random_'+str(num_of_tables_per_run)+'_tables_batch_'+str(i)+'.csv', 'r') as f:\n",
        "    for line in f:\n",
        "      global_chain_num += 1\n",
        "      words = line.strip(', ').split(',')[:-2]\n",
        "      all_chains_database.append(words)\n",
        "      "
      ],
      "execution_count": null,
      "outputs": [
        {
          "output_type": "stream",
          "text": [
            "Moving to file 4 of 9\n",
            "Moving to file 5 of 9\n",
            "Moving to file 6 of 9\n"
          ],
          "name": "stdout"
        }
      ]
    },
    {
      "cell_type": "code",
      "metadata": {
        "colab": {
          "base_uri": "https://localhost:8080/"
        },
        "id": "kgSXGw-plIJr",
        "outputId": "590e05f6-268c-4222-fae5-72552786a5d1"
      },
      "source": [
        "te = TransactionEncoder()\n",
        "te_ary = te.fit(all_chains_database).transform(all_chains_database)\n",
        "chains_df = pd.DataFrame(te_ary, columns=te.columns_)\n",
        "len(chains_df)"
      ],
      "execution_count": null,
      "outputs": [
        {
          "output_type": "execute_result",
          "data": {
            "text/plain": [
              "34113"
            ]
          },
          "metadata": {
            "tags": []
          },
          "execution_count": 124
        }
      ]
    },
    {
      "cell_type": "code",
      "metadata": {
        "colab": {
          "base_uri": "https://localhost:8080/"
        },
        "id": "HsJD94bMlqrG",
        "outputId": "58a44212-6111-4673-df66-82102d309243"
      },
      "source": [
        "frequent_itemsets = apriori(chains_df, min_support=5/len(chains_df), use_colnames=True, low_memory=True, verbose=2)\n",
        "# frequent_itemsets"
      ],
      "execution_count": null,
      "outputs": [
        {
          "output_type": "stream",
          "text": [
            "Processing 13 combinations | Sampling itemset size 12\n"
          ],
          "name": "stdout"
        }
      ]
    },
    {
      "cell_type": "code",
      "metadata": {
        "colab": {
          "base_uri": "https://localhost:8080/",
          "height": 415
        },
        "id": "0ft-dr6BnDxE",
        "outputId": "ff062c25-5fa1-440a-ea5c-65877d33d5ad"
      },
      "source": [
        "frequent_itemsets.sort_values(by='support')"
      ],
      "execution_count": null,
      "outputs": [
        {
          "output_type": "execute_result",
          "data": {
            "text/html": [
              "<div>\n",
              "<style scoped>\n",
              "    .dataframe tbody tr th:only-of-type {\n",
              "        vertical-align: middle;\n",
              "    }\n",
              "\n",
              "    .dataframe tbody tr th {\n",
              "        vertical-align: top;\n",
              "    }\n",
              "\n",
              "    .dataframe thead th {\n",
              "        text-align: right;\n",
              "    }\n",
              "</style>\n",
              "<table border=\"1\" class=\"dataframe\">\n",
              "  <thead>\n",
              "    <tr style=\"text-align: right;\">\n",
              "      <th></th>\n",
              "      <th>support</th>\n",
              "      <th>itemsets</th>\n",
              "      <th>itemsets_formatted</th>\n",
              "      <th>items_count</th>\n",
              "      <th>support_num</th>\n",
              "    </tr>\n",
              "  </thead>\n",
              "  <tbody>\n",
              "    <tr>\n",
              "      <th>8148</th>\n",
              "      <td>0.000223</td>\n",
              "      <td>(attribute, name, lot)</td>\n",
              "      <td>attribute name lot</td>\n",
              "      <td>3</td>\n",
              "      <td>5.0</td>\n",
              "    </tr>\n",
              "    <tr>\n",
              "      <th>64357</th>\n",
              "      <td>0.000223</td>\n",
              "      <td>(strategy, pick, auth, time, call)</td>\n",
              "      <td>strategy pick auth time call</td>\n",
              "      <td>5</td>\n",
              "      <td>5.0</td>\n",
              "    </tr>\n",
              "    <tr>\n",
              "      <th>16209</th>\n",
              "      <td>0.000223</td>\n",
              "      <td>(time, level, freeze)</td>\n",
              "      <td>time level freeze</td>\n",
              "      <td>3</td>\n",
              "      <td>5.0</td>\n",
              "    </tr>\n",
              "    <tr>\n",
              "      <th>34540</th>\n",
              "      <td>0.000223</td>\n",
              "      <td>(transaction, drop, cond, extended)</td>\n",
              "      <td>transaction drop cond extended</td>\n",
              "      <td>4</td>\n",
              "      <td>5.0</td>\n",
              "    </tr>\n",
              "    <tr>\n",
              "      <th>29083</th>\n",
              "      <td>0.000223</td>\n",
              "      <td>(date, status, audit, maintained)</td>\n",
              "      <td>date status audit maintained</td>\n",
              "      <td>4</td>\n",
              "      <td>5.0</td>\n",
              "    </tr>\n",
              "    <tr>\n",
              "      <th>...</th>\n",
              "      <td>...</td>\n",
              "      <td>...</td>\n",
              "      <td>...</td>\n",
              "      <td>...</td>\n",
              "      <td>...</td>\n",
              "    </tr>\n",
              "    <tr>\n",
              "      <th>482</th>\n",
              "      <td>0.144407</td>\n",
              "      <td>(task)</td>\n",
              "      <td>task</td>\n",
              "      <td>1</td>\n",
              "      <td>3234.0</td>\n",
              "    </tr>\n",
              "    <tr>\n",
              "      <th>112</th>\n",
              "      <td>0.162090</td>\n",
              "      <td>(cost)</td>\n",
              "      <td>cost</td>\n",
              "      <td>1</td>\n",
              "      <td>3630.0</td>\n",
              "    </tr>\n",
              "    <tr>\n",
              "      <th>306</th>\n",
              "      <td>0.165483</td>\n",
              "      <td>(num)</td>\n",
              "      <td>num</td>\n",
              "      <td>1</td>\n",
              "      <td>3706.0</td>\n",
              "    </tr>\n",
              "    <tr>\n",
              "      <th>246</th>\n",
              "      <td>0.196919</td>\n",
              "      <td>(item)</td>\n",
              "      <td>item</td>\n",
              "      <td>1</td>\n",
              "      <td>4410.0</td>\n",
              "    </tr>\n",
              "    <tr>\n",
              "      <th>497</th>\n",
              "      <td>0.223979</td>\n",
              "      <td>(tran)</td>\n",
              "      <td>tran</td>\n",
              "      <td>1</td>\n",
              "      <td>5016.0</td>\n",
              "    </tr>\n",
              "  </tbody>\n",
              "</table>\n",
              "<p>165368 rows × 5 columns</p>\n",
              "</div>"
            ],
            "text/plain": [
              "        support                             itemsets  ... items_count  support_num\n",
              "8148   0.000223               (attribute, name, lot)  ...           3          5.0\n",
              "64357  0.000223   (strategy, pick, auth, time, call)  ...           5          5.0\n",
              "16209  0.000223                (time, level, freeze)  ...           3          5.0\n",
              "34540  0.000223  (transaction, drop, cond, extended)  ...           4          5.0\n",
              "29083  0.000223    (date, status, audit, maintained)  ...           4          5.0\n",
              "...         ...                                  ...  ...         ...          ...\n",
              "482    0.144407                               (task)  ...           1       3234.0\n",
              "112    0.162090                               (cost)  ...           1       3630.0\n",
              "306    0.165483                                (num)  ...           1       3706.0\n",
              "246    0.196919                               (item)  ...           1       4410.0\n",
              "497    0.223979                               (tran)  ...           1       5016.0\n",
              "\n",
              "[165368 rows x 5 columns]"
            ]
          },
          "metadata": {
            "tags": []
          },
          "execution_count": 120
        }
      ]
    },
    {
      "cell_type": "code",
      "metadata": {
        "id": "pw4WrOnRqt50"
      },
      "source": [
        "frequent_itemsets['itemsets_formatted'] = convert_set_to_string(frequent_itemsets['itemsets'])\n",
        "frequent_itemsets['items_count'] = series_count_items(frequent_itemsets['itemsets_formatted'])\n",
        "frequent_itemsets['support_num'] = frequent_itemsets['support']*len(all_chains_database)"
      ],
      "execution_count": null,
      "outputs": []
    },
    {
      "cell_type": "code",
      "metadata": {
        "colab": {
          "base_uri": "https://localhost:8080/"
        },
        "id": "sUGhBURysI2W",
        "outputId": "4df8653f-02d6-4435-baa7-5687347b74c3"
      },
      "source": [
        "frequent_itemsets[['support', 'support_num', 'itemsets_formatted', 'items_count']].to_csv('/content/drive/MyDrive/Process_Mining_SOP/'+'frequent_itemsets_batch_01.csv')\n",
        "print(f\"Frequent itemsets saved\")\n",
        "print()"
      ],
      "execution_count": null,
      "outputs": [
        {
          "output_type": "stream",
          "text": [
            "Frequent itemsets saved\n",
            "\n"
          ],
          "name": "stdout"
        }
      ]
    },
    {
      "cell_type": "code",
      "metadata": {
        "id": "HuU8f5j77Wlj"
      },
      "source": [
        "chain_database_df = pd.DataFrame.from_dict(chain_database)"
      ],
      "execution_count": null,
      "outputs": []
    },
    {
      "cell_type": "code",
      "metadata": {
        "colab": {
          "base_uri": "https://localhost:8080/",
          "height": 448
        },
        "id": "Whfbfyw0WQsr",
        "outputId": "caf01054-a0b4-4f88-e8d3-f65861871543"
      },
      "source": [
        "chain_database_df[chain_database_df['chain_id'] == 5208]"
      ],
      "execution_count": null,
      "outputs": [
        {
          "output_type": "execute_result",
          "data": {
            "text/html": [
              "<div>\n",
              "<style scoped>\n",
              "    .dataframe tbody tr th:only-of-type {\n",
              "        vertical-align: middle;\n",
              "    }\n",
              "\n",
              "    .dataframe tbody tr th {\n",
              "        vertical-align: top;\n",
              "    }\n",
              "\n",
              "    .dataframe thead th {\n",
              "        text-align: right;\n",
              "    }\n",
              "</style>\n",
              "<table border=\"1\" class=\"dataframe\">\n",
              "  <thead>\n",
              "    <tr style=\"text-align: right;\">\n",
              "      <th></th>\n",
              "      <th>chain_id</th>\n",
              "      <th>word</th>\n",
              "    </tr>\n",
              "  </thead>\n",
              "  <tbody>\n",
              "    <tr>\n",
              "      <th>29347</th>\n",
              "      <td>5208</td>\n",
              "      <td>extended</td>\n",
              "    </tr>\n",
              "    <tr>\n",
              "      <th>29348</th>\n",
              "      <td>5208</td>\n",
              "      <td>drop</td>\n",
              "    </tr>\n",
              "    <tr>\n",
              "      <th>29349</th>\n",
              "      <td>5208</td>\n",
              "      <td>cond</td>\n",
              "    </tr>\n",
              "    <tr>\n",
              "      <th>29350</th>\n",
              "      <td>5208</td>\n",
              "      <td>program</td>\n",
              "    </tr>\n",
              "    <tr>\n",
              "      <th>29351</th>\n",
              "      <td>5208</td>\n",
              "      <td>price</td>\n",
              "    </tr>\n",
              "    <tr>\n",
              "      <th>29352</th>\n",
              "      <td>5208</td>\n",
              "      <td>set</td>\n",
              "    </tr>\n",
              "    <tr>\n",
              "      <th>29353</th>\n",
              "      <td>5208</td>\n",
              "      <td>value</td>\n",
              "    </tr>\n",
              "    <tr>\n",
              "      <th>29354</th>\n",
              "      <td>5208</td>\n",
              "      <td>min</td>\n",
              "    </tr>\n",
              "    <tr>\n",
              "      <th>29355</th>\n",
              "      <td>5208</td>\n",
              "      <td>unit</td>\n",
              "    </tr>\n",
              "    <tr>\n",
              "      <th>29356</th>\n",
              "      <td>5208</td>\n",
              "      <td>num</td>\n",
              "    </tr>\n",
              "    <tr>\n",
              "      <th>29357</th>\n",
              "      <td>5208</td>\n",
              "      <td>item</td>\n",
              "    </tr>\n",
              "    <tr>\n",
              "      <th>29358</th>\n",
              "      <td>5208</td>\n",
              "      <td>rule</td>\n",
              "    </tr>\n",
              "    <tr>\n",
              "      <th>29359</th>\n",
              "      <td>5208</td>\n",
              "      <td>name</td>\n",
              "    </tr>\n",
              "  </tbody>\n",
              "</table>\n",
              "</div>"
            ],
            "text/plain": [
              "       chain_id      word\n",
              "29347      5208  extended\n",
              "29348      5208      drop\n",
              "29349      5208      cond\n",
              "29350      5208   program\n",
              "29351      5208     price\n",
              "29352      5208       set\n",
              "29353      5208     value\n",
              "29354      5208       min\n",
              "29355      5208      unit\n",
              "29356      5208       num\n",
              "29357      5208      item\n",
              "29358      5208      rule\n",
              "29359      5208      name"
            ]
          },
          "metadata": {
            "tags": []
          },
          "execution_count": 9
        }
      ]
    },
    {
      "cell_type": "code",
      "metadata": {
        "colab": {
          "base_uri": "https://localhost:8080/",
          "height": 446
        },
        "id": "tcUSfTKt8CsG",
        "outputId": "52dd5deb-897b-4e9b-8524-8b748ce6532d"
      },
      "source": [
        "chain_database_df.groupby(by='chain_id').agg({'word':'count'}).sort_values('word')"
      ],
      "execution_count": null,
      "outputs": [
        {
          "output_type": "execute_result",
          "data": {
            "text/html": [
              "<div>\n",
              "<style scoped>\n",
              "    .dataframe tbody tr th:only-of-type {\n",
              "        vertical-align: middle;\n",
              "    }\n",
              "\n",
              "    .dataframe tbody tr th {\n",
              "        vertical-align: top;\n",
              "    }\n",
              "\n",
              "    .dataframe thead th {\n",
              "        text-align: right;\n",
              "    }\n",
              "</style>\n",
              "<table border=\"1\" class=\"dataframe\">\n",
              "  <thead>\n",
              "    <tr style=\"text-align: right;\">\n",
              "      <th></th>\n",
              "      <th>word</th>\n",
              "    </tr>\n",
              "    <tr>\n",
              "      <th>chain_id</th>\n",
              "      <th></th>\n",
              "    </tr>\n",
              "  </thead>\n",
              "  <tbody>\n",
              "    <tr>\n",
              "      <th>22394</th>\n",
              "      <td>2</td>\n",
              "    </tr>\n",
              "    <tr>\n",
              "      <th>14991</th>\n",
              "      <td>2</td>\n",
              "    </tr>\n",
              "    <tr>\n",
              "      <th>21443</th>\n",
              "      <td>2</td>\n",
              "    </tr>\n",
              "    <tr>\n",
              "      <th>14995</th>\n",
              "      <td>2</td>\n",
              "    </tr>\n",
              "    <tr>\n",
              "      <th>21445</th>\n",
              "      <td>2</td>\n",
              "    </tr>\n",
              "    <tr>\n",
              "      <th>...</th>\n",
              "      <td>...</td>\n",
              "    </tr>\n",
              "    <tr>\n",
              "      <th>12258</th>\n",
              "      <td>13</td>\n",
              "    </tr>\n",
              "    <tr>\n",
              "      <th>12248</th>\n",
              "      <td>13</td>\n",
              "    </tr>\n",
              "    <tr>\n",
              "      <th>5208</th>\n",
              "      <td>13</td>\n",
              "    </tr>\n",
              "    <tr>\n",
              "      <th>12249</th>\n",
              "      <td>14</td>\n",
              "    </tr>\n",
              "    <tr>\n",
              "      <th>12253</th>\n",
              "      <td>14</td>\n",
              "    </tr>\n",
              "  </tbody>\n",
              "</table>\n",
              "<p>21809 rows × 1 columns</p>\n",
              "</div>"
            ],
            "text/plain": [
              "          word\n",
              "chain_id      \n",
              "22394        2\n",
              "14991        2\n",
              "21443        2\n",
              "14995        2\n",
              "21445        2\n",
              "...        ...\n",
              "12258       13\n",
              "12248       13\n",
              "5208        13\n",
              "12249       14\n",
              "12253       14\n",
              "\n",
              "[21809 rows x 1 columns]"
            ]
          },
          "metadata": {
            "tags": []
          },
          "execution_count": 10
        }
      ]
    },
    {
      "cell_type": "code",
      "metadata": {
        "colab": {
          "base_uri": "https://localhost:8080/",
          "height": 119
        },
        "id": "toTTsmB98aDJ",
        "outputId": "2616b518-ef4d-461e-f2e0-a09d8622a8de"
      },
      "source": [
        "setup_result = arules.setup(data=chain_database_df,\n",
        "                            transaction_id= 'chain_id',\n",
        "                            item_id = 'word')"
      ],
      "execution_count": null,
      "outputs": [
        {
          "output_type": "display_data",
          "data": {
            "text/html": [
              "<style  type=\"text/css\" >\n",
              "</style><table id=\"T_7cb9edda_f861_11eb_a9bc_0242ac1c0002\" ><thead>    <tr>        <th class=\"col_heading level0 col0\" >Description</th>        <th class=\"col_heading level0 col1\" >Value</th>    </tr></thead><tbody>\n",
              "                <tr>\n",
              "                                <td id=\"T_7cb9edda_f861_11eb_a9bc_0242ac1c0002row0_col0\" class=\"data row0 col0\" >session_id</td>\n",
              "                        <td id=\"T_7cb9edda_f861_11eb_a9bc_0242ac1c0002row0_col1\" class=\"data row0 col1\" >5614</td>\n",
              "            </tr>\n",
              "            <tr>\n",
              "                                <td id=\"T_7cb9edda_f861_11eb_a9bc_0242ac1c0002row1_col0\" class=\"data row1 col0\" ># Transactions</td>\n",
              "                        <td id=\"T_7cb9edda_f861_11eb_a9bc_0242ac1c0002row1_col1\" class=\"data row1 col1\" >21809</td>\n",
              "            </tr>\n",
              "            <tr>\n",
              "                                <td id=\"T_7cb9edda_f861_11eb_a9bc_0242ac1c0002row2_col0\" class=\"data row2 col0\" ># Items</td>\n",
              "                        <td id=\"T_7cb9edda_f861_11eb_a9bc_0242ac1c0002row2_col1\" class=\"data row2 col1\" >673</td>\n",
              "            </tr>\n",
              "            <tr>\n",
              "                                <td id=\"T_7cb9edda_f861_11eb_a9bc_0242ac1c0002row3_col0\" class=\"data row3 col0\" >Ignore Items</td>\n",
              "                        <td id=\"T_7cb9edda_f861_11eb_a9bc_0242ac1c0002row3_col1\" class=\"data row3 col1\" >None</td>\n",
              "            </tr>\n",
              "    </tbody></table>"
            ],
            "text/plain": [
              "<pandas.io.formats.style.Styler at 0x7fee40c5bbd0>"
            ]
          },
          "metadata": {
            "tags": []
          }
        }
      ]
    },
    {
      "cell_type": "code",
      "metadata": {
        "id": "rDi2fLUY8in3"
      },
      "source": [
        "# 100000/(len(chain_database_df['chain_id'].unique()))\n",
        "start_time = time.time()\n",
        "model = arules.create_model(threshold=0, min_support=0.00005, low_memory=True)\n",
        "end_time = time.time()\n",
        "\n",
        "print(f\"Model made has shape {model.shape}\")\n",
        "print(f\"Time taken = {end_time-start_time}\")"
      ],
      "execution_count": null,
      "outputs": []
    },
    {
      "cell_type": "code",
      "metadata": {
        "colab": {
          "base_uri": "https://localhost:8080/"
        },
        "id": "d_XKNbZhb9op",
        "outputId": "9f2a0021-e0ba-4d8f-d6e3-75636e414497"
      },
      "source": [
        "model.shape"
      ],
      "execution_count": null,
      "outputs": [
        {
          "output_type": "execute_result",
          "data": {
            "text/plain": [
              "(58, 9)"
            ]
          },
          "metadata": {
            "tags": []
          },
          "execution_count": 27
        }
      ]
    },
    {
      "cell_type": "code",
      "metadata": {
        "colab": {
          "base_uri": "https://localhost:8080/",
          "height": 415
        },
        "id": "EpAJvNINcC-c",
        "outputId": "9b98efca-e730-47f0-8b8d-73135c601b7f"
      },
      "source": [
        "model"
      ],
      "execution_count": null,
      "outputs": [
        {
          "output_type": "execute_result",
          "data": {
            "text/html": [
              "<div>\n",
              "<style scoped>\n",
              "    .dataframe tbody tr th:only-of-type {\n",
              "        vertical-align: middle;\n",
              "    }\n",
              "\n",
              "    .dataframe tbody tr th {\n",
              "        vertical-align: top;\n",
              "    }\n",
              "\n",
              "    .dataframe thead th {\n",
              "        text-align: right;\n",
              "    }\n",
              "</style>\n",
              "<table border=\"1\" class=\"dataframe\">\n",
              "  <thead>\n",
              "    <tr style=\"text-align: right;\">\n",
              "      <th></th>\n",
              "      <th>antecedents</th>\n",
              "      <th>consequents</th>\n",
              "      <th>antecedent support</th>\n",
              "      <th>consequent support</th>\n",
              "      <th>support</th>\n",
              "      <th>confidence</th>\n",
              "      <th>lift</th>\n",
              "      <th>leverage</th>\n",
              "      <th>conviction</th>\n",
              "    </tr>\n",
              "  </thead>\n",
              "  <tbody>\n",
              "    <tr>\n",
              "      <th>0</th>\n",
              "      <td>(tran, set, warn)</td>\n",
              "      <td>(locn)</td>\n",
              "      <td>0.0194</td>\n",
              "      <td>0.0944</td>\n",
              "      <td>0.0194</td>\n",
              "      <td>1.0000</td>\n",
              "      <td>10.5972</td>\n",
              "      <td>0.0176</td>\n",
              "      <td>inf</td>\n",
              "    </tr>\n",
              "    <tr>\n",
              "      <th>1</th>\n",
              "      <td>(unit, item, set)</td>\n",
              "      <td>(num)</td>\n",
              "      <td>0.0102</td>\n",
              "      <td>0.1699</td>\n",
              "      <td>0.0102</td>\n",
              "      <td>1.0000</td>\n",
              "      <td>5.8848</td>\n",
              "      <td>0.0084</td>\n",
              "      <td>inf</td>\n",
              "    </tr>\n",
              "    <tr>\n",
              "      <th>2</th>\n",
              "      <td>(level, unit, value)</td>\n",
              "      <td>(num)</td>\n",
              "      <td>0.0101</td>\n",
              "      <td>0.1699</td>\n",
              "      <td>0.0101</td>\n",
              "      <td>1.0000</td>\n",
              "      <td>5.8848</td>\n",
              "      <td>0.0084</td>\n",
              "      <td>inf</td>\n",
              "    </tr>\n",
              "    <tr>\n",
              "      <th>3</th>\n",
              "      <td>(level, num, value)</td>\n",
              "      <td>(unit)</td>\n",
              "      <td>0.0101</td>\n",
              "      <td>0.1073</td>\n",
              "      <td>0.0101</td>\n",
              "      <td>1.0000</td>\n",
              "      <td>9.3161</td>\n",
              "      <td>0.0090</td>\n",
              "      <td>inf</td>\n",
              "    </tr>\n",
              "    <tr>\n",
              "      <th>4</th>\n",
              "      <td>(min, tran, num, set)</td>\n",
              "      <td>(unit, value)</td>\n",
              "      <td>0.0110</td>\n",
              "      <td>0.0656</td>\n",
              "      <td>0.0110</td>\n",
              "      <td>1.0000</td>\n",
              "      <td>15.2510</td>\n",
              "      <td>0.0103</td>\n",
              "      <td>inf</td>\n",
              "    </tr>\n",
              "    <tr>\n",
              "      <th>...</th>\n",
              "      <td>...</td>\n",
              "      <td>...</td>\n",
              "      <td>...</td>\n",
              "      <td>...</td>\n",
              "      <td>...</td>\n",
              "      <td>...</td>\n",
              "      <td>...</td>\n",
              "      <td>...</td>\n",
              "      <td>...</td>\n",
              "    </tr>\n",
              "    <tr>\n",
              "      <th>6557</th>\n",
              "      <td>(pick)</td>\n",
              "      <td>(reversal, strategy)</td>\n",
              "      <td>0.1226</td>\n",
              "      <td>0.0127</td>\n",
              "      <td>0.0124</td>\n",
              "      <td>0.1010</td>\n",
              "      <td>7.9786</td>\n",
              "      <td>0.0108</td>\n",
              "      <td>1.0982</td>\n",
              "    </tr>\n",
              "    <tr>\n",
              "      <th>6558</th>\n",
              "      <td>(node)</td>\n",
              "      <td>(access, item)</td>\n",
              "      <td>0.1453</td>\n",
              "      <td>0.0146</td>\n",
              "      <td>0.0146</td>\n",
              "      <td>0.1004</td>\n",
              "      <td>6.8842</td>\n",
              "      <td>0.0125</td>\n",
              "      <td>1.0954</td>\n",
              "    </tr>\n",
              "    <tr>\n",
              "      <th>6559</th>\n",
              "      <td>(node)</td>\n",
              "      <td>(factor, access)</td>\n",
              "      <td>0.1453</td>\n",
              "      <td>0.0146</td>\n",
              "      <td>0.0146</td>\n",
              "      <td>0.1004</td>\n",
              "      <td>6.8842</td>\n",
              "      <td>0.0125</td>\n",
              "      <td>1.0954</td>\n",
              "    </tr>\n",
              "    <tr>\n",
              "      <th>6560</th>\n",
              "      <td>(tran)</td>\n",
              "      <td>(pick, zone)</td>\n",
              "      <td>0.2300</td>\n",
              "      <td>0.0312</td>\n",
              "      <td>0.0230</td>\n",
              "      <td>0.1001</td>\n",
              "      <td>3.2051</td>\n",
              "      <td>0.0158</td>\n",
              "      <td>1.0765</td>\n",
              "    </tr>\n",
              "    <tr>\n",
              "      <th>6561</th>\n",
              "      <td>(tran)</td>\n",
              "      <td>(pick)</td>\n",
              "      <td>0.2300</td>\n",
              "      <td>0.1226</td>\n",
              "      <td>0.0230</td>\n",
              "      <td>0.1001</td>\n",
              "      <td>0.8162</td>\n",
              "      <td>-0.0052</td>\n",
              "      <td>0.9750</td>\n",
              "    </tr>\n",
              "  </tbody>\n",
              "</table>\n",
              "<p>6562 rows × 9 columns</p>\n",
              "</div>"
            ],
            "text/plain": [
              "                antecedents           consequents  ...  leverage  conviction\n",
              "0         (tran, set, warn)                (locn)  ...    0.0176         inf\n",
              "1         (unit, item, set)                 (num)  ...    0.0084         inf\n",
              "2      (level, unit, value)                 (num)  ...    0.0084         inf\n",
              "3       (level, num, value)                (unit)  ...    0.0090         inf\n",
              "4     (min, tran, num, set)         (unit, value)  ...    0.0103         inf\n",
              "...                     ...                   ...  ...       ...         ...\n",
              "6557                 (pick)  (reversal, strategy)  ...    0.0108      1.0982\n",
              "6558                 (node)        (access, item)  ...    0.0125      1.0954\n",
              "6559                 (node)      (factor, access)  ...    0.0125      1.0954\n",
              "6560                 (tran)          (pick, zone)  ...    0.0158      1.0765\n",
              "6561                 (tran)                (pick)  ...   -0.0052      0.9750\n",
              "\n",
              "[6562 rows x 9 columns]"
            ]
          },
          "metadata": {
            "tags": []
          },
          "execution_count": 37
        }
      ]
    },
    {
      "cell_type": "code",
      "metadata": {
        "id": "6P9Pzva0eVgq"
      },
      "source": [
        "model['consequents'] = convert_set_to_string(model['consequents'])\n",
        "model['antecedents'] = convert_set_to_string(model['antecedents'])"
      ],
      "execution_count": null,
      "outputs": []
    },
    {
      "cell_type": "code",
      "metadata": {
        "id": "Jpuq_EKme0P0"
      },
      "source": [
        "def count_items(s):\n",
        "  return len(s.split())"
      ],
      "execution_count": null,
      "outputs": []
    },
    {
      "cell_type": "code",
      "metadata": {
        "id": "LU2X1GO1feqU"
      },
      "source": [
        "def series_count_items(df_series):\n",
        "  new_arr = pd.Series(list(map(count_items, df_series)))\n",
        "  return new_arr"
      ],
      "execution_count": null,
      "outputs": []
    },
    {
      "cell_type": "code",
      "metadata": {
        "id": "kWHk9yKyeXcD"
      },
      "source": [
        "model['count_items'] = series_count_items(model['antecedents'])\n",
        "model['count_items'] += series_count_items(model['consequents'])"
      ],
      "execution_count": null,
      "outputs": []
    },
    {
      "cell_type": "code",
      "metadata": {
        "colab": {
          "base_uri": "https://localhost:8080/",
          "height": 415
        },
        "id": "ZLRnfmizfPr0",
        "outputId": "e4bd0ec1-f8d2-4f03-f54e-6f7336080014"
      },
      "source": [
        "model[model['count_items'] == 6]"
      ],
      "execution_count": null,
      "outputs": [
        {
          "output_type": "execute_result",
          "data": {
            "text/html": [
              "<div>\n",
              "<style scoped>\n",
              "    .dataframe tbody tr th:only-of-type {\n",
              "        vertical-align: middle;\n",
              "    }\n",
              "\n",
              "    .dataframe tbody tr th {\n",
              "        vertical-align: top;\n",
              "    }\n",
              "\n",
              "    .dataframe thead th {\n",
              "        text-align: right;\n",
              "    }\n",
              "</style>\n",
              "<table border=\"1\" class=\"dataframe\">\n",
              "  <thead>\n",
              "    <tr style=\"text-align: right;\">\n",
              "      <th></th>\n",
              "      <th>antecedents</th>\n",
              "      <th>consequents</th>\n",
              "      <th>antecedent support</th>\n",
              "      <th>consequent support</th>\n",
              "      <th>support</th>\n",
              "      <th>confidence</th>\n",
              "      <th>lift</th>\n",
              "      <th>leverage</th>\n",
              "      <th>conviction</th>\n",
              "      <th>count_items</th>\n",
              "    </tr>\n",
              "  </thead>\n",
              "  <tbody>\n",
              "    <tr>\n",
              "      <th>4</th>\n",
              "      <td>min tran num set</td>\n",
              "      <td>unit value</td>\n",
              "      <td>0.0110</td>\n",
              "      <td>0.0656</td>\n",
              "      <td>0.0110</td>\n",
              "      <td>1.0000</td>\n",
              "      <td>15.2510</td>\n",
              "      <td>0.0103</td>\n",
              "      <td>inf</td>\n",
              "      <td>6</td>\n",
              "    </tr>\n",
              "    <tr>\n",
              "      <th>24</th>\n",
              "      <td>locn unit set value num</td>\n",
              "      <td>tran</td>\n",
              "      <td>0.0176</td>\n",
              "      <td>0.2300</td>\n",
              "      <td>0.0176</td>\n",
              "      <td>1.0000</td>\n",
              "      <td>4.3479</td>\n",
              "      <td>0.0136</td>\n",
              "      <td>inf</td>\n",
              "      <td>6</td>\n",
              "    </tr>\n",
              "    <tr>\n",
              "      <th>26</th>\n",
              "      <td>min tran num value</td>\n",
              "      <td>unit set</td>\n",
              "      <td>0.0110</td>\n",
              "      <td>0.0441</td>\n",
              "      <td>0.0110</td>\n",
              "      <td>1.0000</td>\n",
              "      <td>22.6705</td>\n",
              "      <td>0.0105</td>\n",
              "      <td>inf</td>\n",
              "      <td>6</td>\n",
              "    </tr>\n",
              "    <tr>\n",
              "      <th>29</th>\n",
              "      <td>min tran num unit</td>\n",
              "      <td>value set</td>\n",
              "      <td>0.0110</td>\n",
              "      <td>0.0713</td>\n",
              "      <td>0.0110</td>\n",
              "      <td>1.0000</td>\n",
              "      <td>14.0341</td>\n",
              "      <td>0.0102</td>\n",
              "      <td>inf</td>\n",
              "      <td>6</td>\n",
              "    </tr>\n",
              "    <tr>\n",
              "      <th>78</th>\n",
              "      <td>min tran num</td>\n",
              "      <td>unit set value</td>\n",
              "      <td>0.0110</td>\n",
              "      <td>0.0441</td>\n",
              "      <td>0.0110</td>\n",
              "      <td>1.0000</td>\n",
              "      <td>22.6705</td>\n",
              "      <td>0.0105</td>\n",
              "      <td>inf</td>\n",
              "      <td>6</td>\n",
              "    </tr>\n",
              "    <tr>\n",
              "      <th>...</th>\n",
              "      <td>...</td>\n",
              "      <td>...</td>\n",
              "      <td>...</td>\n",
              "      <td>...</td>\n",
              "      <td>...</td>\n",
              "      <td>...</td>\n",
              "      <td>...</td>\n",
              "      <td>...</td>\n",
              "      <td>...</td>\n",
              "      <td>...</td>\n",
              "    </tr>\n",
              "    <tr>\n",
              "      <th>6520</th>\n",
              "      <td>unit</td>\n",
              "      <td>value set zone tran num</td>\n",
              "      <td>0.1073</td>\n",
              "      <td>0.0110</td>\n",
              "      <td>0.0110</td>\n",
              "      <td>0.1025</td>\n",
              "      <td>9.3161</td>\n",
              "      <td>0.0098</td>\n",
              "      <td>1.1020</td>\n",
              "      <td>6</td>\n",
              "    </tr>\n",
              "    <tr>\n",
              "      <th>6521</th>\n",
              "      <td>unit</td>\n",
              "      <td>value set tran num task</td>\n",
              "      <td>0.1073</td>\n",
              "      <td>0.0110</td>\n",
              "      <td>0.0110</td>\n",
              "      <td>0.1025</td>\n",
              "      <td>9.3161</td>\n",
              "      <td>0.0098</td>\n",
              "      <td>1.1020</td>\n",
              "      <td>6</td>\n",
              "    </tr>\n",
              "    <tr>\n",
              "      <th>6528</th>\n",
              "      <td>value</td>\n",
              "      <td>unit set zone tran num</td>\n",
              "      <td>0.1078</td>\n",
              "      <td>0.0110</td>\n",
              "      <td>0.0110</td>\n",
              "      <td>0.1021</td>\n",
              "      <td>9.2765</td>\n",
              "      <td>0.0098</td>\n",
              "      <td>1.1014</td>\n",
              "      <td>6</td>\n",
              "    </tr>\n",
              "    <tr>\n",
              "      <th>6539</th>\n",
              "      <td>value</td>\n",
              "      <td>unit set tran num task</td>\n",
              "      <td>0.1078</td>\n",
              "      <td>0.0110</td>\n",
              "      <td>0.0110</td>\n",
              "      <td>0.1021</td>\n",
              "      <td>9.2765</td>\n",
              "      <td>0.0098</td>\n",
              "      <td>1.1014</td>\n",
              "      <td>6</td>\n",
              "    </tr>\n",
              "    <tr>\n",
              "      <th>6543</th>\n",
              "      <td>value</td>\n",
              "      <td>min unit set tran num</td>\n",
              "      <td>0.1078</td>\n",
              "      <td>0.0110</td>\n",
              "      <td>0.0110</td>\n",
              "      <td>0.1021</td>\n",
              "      <td>9.2765</td>\n",
              "      <td>0.0098</td>\n",
              "      <td>1.1014</td>\n",
              "      <td>6</td>\n",
              "    </tr>\n",
              "  </tbody>\n",
              "</table>\n",
              "<p>297 rows × 10 columns</p>\n",
              "</div>"
            ],
            "text/plain": [
              "                  antecedents              consequents  ...  conviction  count_items\n",
              "4            min tran num set               unit value  ...         inf            6\n",
              "24    locn unit set value num                     tran  ...         inf            6\n",
              "26         min tran num value                 unit set  ...         inf            6\n",
              "29          min tran num unit                value set  ...         inf            6\n",
              "78               min tran num           unit set value  ...         inf            6\n",
              "...                       ...                      ...  ...         ...          ...\n",
              "6520                     unit  value set zone tran num  ...      1.1020            6\n",
              "6521                     unit  value set tran num task  ...      1.1020            6\n",
              "6528                    value   unit set zone tran num  ...      1.1014            6\n",
              "6539                    value   unit set tran num task  ...      1.1014            6\n",
              "6543                    value    min unit set tran num  ...      1.1014            6\n",
              "\n",
              "[297 rows x 10 columns]"
            ]
          },
          "metadata": {
            "tags": []
          },
          "execution_count": 55
        }
      ]
    }
  ]
}